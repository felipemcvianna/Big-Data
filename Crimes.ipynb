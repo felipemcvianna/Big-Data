{
 "cells": [
  {
   "cell_type": "markdown",
   "metadata": {},
   "source": [
    "**Contagem de quantas vezes cada dado aparece nas determinadas colunas**"
   ]
  },
  {
   "cell_type": "code",
   "execution_count": null,
   "metadata": {},
   "outputs": [],
   "source": [
    "import pandas as pd\n",
    "\n",
    "crimes = pd.read_csv(\"crimesCsv.csv\")\n",
    "crimes = crimes[crimes['registros'] != 0]\n",
    "\n",
    "crimes_counts = crimes['natureza'].value_counts()\n",
    "municipio_counts = crimes['municipio'].value_counts()\n",
    "mes_counts = crimes[\"mes\"].value_counts()\n",
    "risp_counts = crimes['risp'].value_counts()\n",
    "\n",
    "\n",
    "print(\"-----------------------------------\")\n",
    "display(crimes_counts)\n",
    "print(\"-----------------------------------\")\n",
    "print(\"-----------------------------------\")\n",
    "display(municipio_counts)\n",
    "print(\"-----------------------------------\")\n",
    "print(\"-----------------------------------\")\n",
    "display(mes_counts)\n",
    "print(\"-----------------------------------\")\n",
    "print(\"-----------------------------------\")\n",
    "display(risp_counts)\n",
    "print(\"-----------------------------------\")"
   ]
  },
  {
   "cell_type": "markdown",
   "metadata": {},
   "source": [
    "**Tabela pivot mostrando a soma dos registros para cada tipo de crime em cada RISP**"
   ]
  },
  {
   "cell_type": "code",
   "execution_count": null,
   "metadata": {},
   "outputs": [],
   "source": [
    "pivot_table = crimes.pivot_table(values='registros', index='natureza', columns='risp', aggfunc='sum')\n",
    "pivot_table_clean = pivot_table.dropna().astype(int)\n",
    "display(pivot_table_clean)"
   ]
  },
  {
   "cell_type": "markdown",
   "metadata": {},
   "source": [
    "**Contagem de quantas vezes cada crime aparece em determinado municipio**"
   ]
  },
  {
   "cell_type": "code",
   "execution_count": null,
   "metadata": {},
   "outputs": [],
   "source": [
    "crimes_estupro_consumado = crimes[crimes['natureza'] == 'Estupro Consumado']\n",
    "municipio_stp_consumado = crimes_estupro_consumado['municipio'].value_counts()\n",
    "print(municipio_stp_consumado)"
   ]
  },
  {
   "cell_type": "code",
   "execution_count": null,
   "metadata": {},
   "outputs": [],
   "source": [
    "crimes_estupro_vulneravel_consumado = crimes[crimes['natureza'] == 'Estupro de Vulnerável Consumado']\n",
    "municipio_stp_vulneravel_consumado = crimes_estupro_vulneravel_consumado['municipio'].value_counts()\n",
    "print(municipio_stp_vulneravel_consumado)"
   ]
  },
  {
   "cell_type": "code",
   "execution_count": null,
   "metadata": {},
   "outputs": [],
   "source": [
    "crimes_estupro_vulneravel_tentado = crimes[crimes['natureza'] == 'Estupro de Vulnerável Tentado']\n",
    "municipio_stp_vulneravel_tentado = crimes_estupro_vulneravel_tentado['municipio'].value_counts()\n",
    "print(municipio_stp_vulneravel_tentado)"
   ]
  },
  {
   "cell_type": "code",
   "execution_count": null,
   "metadata": {},
   "outputs": [],
   "source": [
    "crimes_estupro_tentado = crimes[crimes['natureza'] == 'Estupro Tentado']\n",
    "municipio_stp_tentado = crimes_estupro_vulneravel_tentado['municipio'].value_counts()\n",
    "print(municipio_stp_tentado)"
   ]
  },
  {
   "cell_type": "code",
   "execution_count": null,
   "metadata": {},
   "outputs": [],
   "source": [
    "crimes_extorsao_consumado = crimes[crimes['natureza'] == 'Extorsão Consumado']\n",
    "municipio_ext_consumado = crimes_extorsao_consumado['municipio'].value_counts()\n",
    "print(municipio_ext_consumado)"
   ]
  },
  {
   "cell_type": "code",
   "execution_count": null,
   "metadata": {},
   "outputs": [],
   "source": [
    "crimes_extorsao_sequestro_consumado = crimes[crimes['natureza'] == 'Extorsão Mediante Sequestro Consumado']\n",
    "municipio_ext_sequestro = crimes_extorsao_sequestro_consumado['municipio'].value_counts()\n",
    "print(municipio_ext_sequestro)"
   ]
  },
  {
   "cell_type": "code",
   "execution_count": null,
   "metadata": {},
   "outputs": [],
   "source": [
    "crimes_extorsao_tentado = crimes[crimes['natureza'] == 'Extorsão Tentado']\n",
    "municipio_ext_tentado = crimes_extorsao_tentado['municipio'].value_counts()\n",
    "print(municipio_ext_tentado)"
   ]
  },
  {
   "cell_type": "code",
   "execution_count": null,
   "metadata": {},
   "outputs": [],
   "source": [
    "crimes_homicidio_tentado = crimes[crimes['natureza'] == 'Homicídio Tentado']\n",
    "municipio_homicidio_tentado = crimes_homicidio_tentado['municipio'].value_counts()\n",
    "print(municipio_homicidio_tentado)"
   ]
  },
  {
   "cell_type": "code",
   "execution_count": null,
   "metadata": {},
   "outputs": [],
   "source": [
    "crimes_roubo_consumado = crimes[crimes['natureza'] == 'Roubo Consumado']\n",
    "municipio_roubo_consumado = crimes_roubo_consumado['municipio'].value_counts()\n",
    "print(municipio_roubo_consumado)"
   ]
  },
  {
   "cell_type": "code",
   "execution_count": null,
   "metadata": {},
   "outputs": [],
   "source": [
    "crimes_roubo_tentado = crimes[crimes['natureza'] == 'Roubo Tentado']\n",
    "municipio_roubo_tentado = crimes_roubo_tentado['municipio'].value_counts()\n",
    "print(municipio_roubo_tentado)"
   ]
  },
  {
   "cell_type": "code",
   "execution_count": null,
   "metadata": {},
   "outputs": [],
   "source": [
    "Sequestro_Carcere_consumado = crimes[crimes['natureza'] == 'Sequestro e Cárcere Privado Consumado']\n",
    "Municipio_Sequestro_Carcere_consumado = Sequestro_Carcere_consumado['municipio'].value_counts()\n",
    "print(Municipio_Sequestro_Carcere_consumado)"
   ]
  },
  {
   "cell_type": "code",
   "execution_count": null,
   "metadata": {},
   "outputs": [],
   "source": [
    "Sequestro_Carcere_tentado = crimes[crimes['natureza'] == 'Sequestro e Cárcere Privado Tentado']\n",
    "Municipio_Sequestro_Carcere_tentado = Sequestro_Carcere_tentado['municipio'].value_counts()\n",
    "print(Municipio_Sequestro_Carcere_tentado)"
   ]
  }
 ],
 "metadata": {
  "kernelspec": {
   "display_name": "base",
   "language": "python",
   "name": "python3"
  },
  "language_info": {
   "codemirror_mode": {
    "name": "ipython",
    "version": 3
   },
   "file_extension": ".py",
   "mimetype": "text/x-python",
   "name": "python",
   "nbconvert_exporter": "python",
   "pygments_lexer": "ipython3",
   "version": "3.12.1"
  }
 },
 "nbformat": 4,
 "nbformat_minor": 2
}
